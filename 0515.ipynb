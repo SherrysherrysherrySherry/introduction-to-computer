{
  "nbformat": 4,
  "nbformat_minor": 0,
  "metadata": {
    "colab": {
      "provenance": [],
      "authorship_tag": "ABX9TyPo4Im3opNU85S7IwnyaVfR",
      "include_colab_link": true
    },
    "kernelspec": {
      "name": "python3",
      "display_name": "Python 3"
    },
    "language_info": {
      "name": "python"
    }
  },
  "cells": [
    {
      "cell_type": "markdown",
      "metadata": {
        "id": "view-in-github",
        "colab_type": "text"
      },
      "source": [
        "<a href=\"https://colab.research.google.com/github/SherrysherrysherrySherry/introduction-to-computer/blob/main/0515.ipynb\" target=\"_parent\"><img src=\"https://colab.research.google.com/assets/colab-badge.svg\" alt=\"Open In Colab\"/></a>"
      ]
    },
    {
      "cell_type": "code",
      "execution_count": 11,
      "metadata": {
        "id": "VqiSVAzDQz_V",
        "colab": {
          "base_uri": "https://localhost:8080/"
        },
        "outputId": "0af59eaf-6127-490e-e8a5-482c52184226"
      },
      "outputs": [
        {
          "output_type": "stream",
          "name": "stdout",
          "text": [
            "今天會下雨嗎？k\n",
            "請重新輸入\n",
            "今天會下雨嗎？n\n",
            "今天不用帶傘！\n"
          ]
        }
      ],
      "source": [
        "rain = input(\"今天會下雨嗎？\")\n",
        "if rain == \"Y\" or rain == \"y\":\n",
        "  print(\"出門記得帶傘！\")\n",
        "elif rain == \"N\" or rain == \"n\":\n",
        "  print(\"今天不用帶傘！\")\n",
        "else:\n",
        "  print(\"請重新輸入\")"
      ]
    },
    {
      "cell_type": "code",
      "source": [
        "temperature = float(input(\"請輸入您的體溫\"))\n",
        "if temperature >= 37.5:\n",
        "  print(\"體溫過高！\")\n",
        "elif 37 <= temperature <= 37.4:\n",
        "  print(\"體溫略高！\")\n",
        "elif 34 <= temperature <= 36.9:\n",
        "  print(\"體溫正常！\")\n",
        "else:\n",
        "  print(\"體溫異常，請重新量測！\")"
      ],
      "metadata": {
        "id": "SYFvi_jeTYSa",
        "outputId": "c1fa72bd-7791-4e00-8526-2e67986edccf",
        "colab": {
          "base_uri": "https://localhost:8080/"
        }
      },
      "execution_count": 16,
      "outputs": [
        {
          "output_type": "stream",
          "name": "stdout",
          "text": [
            "請輸入您的體溫37\n",
            "體溫略高！\n"
          ]
        }
      ]
    },
    {
      "cell_type": "code",
      "source": [
        "score = int(input(\"請輸入成績\"))\n",
        "if score >= 90:\n",
        "  print(\"A\")\n",
        "elif 80 <= score <= 89:\n",
        "  print(\"B\")\n",
        "elif 70 <= score <= 79:\n",
        "  print(\"C\")\n",
        "elif 60 <= score <= 69:\n",
        "  print(\"D\")\n",
        "else:\n",
        "  print(\"E\")"
      ],
      "metadata": {
        "id": "m1q4sv4uVoKR",
        "colab": {
          "base_uri": "https://localhost:8080/"
        },
        "outputId": "8bc36ce7-7fd2-41d3-da14-c736789f1372"
      },
      "execution_count": 20,
      "outputs": [
        {
          "output_type": "stream",
          "name": "stdout",
          "text": [
            "請輸入成績98\n",
            "A\n"
          ]
        }
      ]
    },
    {
      "cell_type": "code",
      "source": [
        "month = input(\"請輸入月份\")\n",
        "if month == \"3\" or month == \"4\" or month == \"5\":\n",
        "  print(month , \"月是春天！\")\n",
        "elif month == \"6\" or month == \"7\" or month == \"8\":\n",
        "  print(month , \"月是夏天！\")\n",
        "elif month == \"9\" or month == \"10\" or month == \"11\":\n",
        "  print(month , \"月是秋天！\")\n",
        "elif month == \"12\" or month == \"1\" or month == \"2\":\n",
        "  print(month , \"月是冬天！\")\n",
        "else:\n",
        "  print(\"月份不在範圍內！\")"
      ],
      "metadata": {
        "id": "EjTmOKQHVpPM",
        "colab": {
          "base_uri": "https://localhost:8080/"
        },
        "outputId": "e5aa7018-67b4-4ad0-af48-8589caf19b09"
      },
      "execution_count": 23,
      "outputs": [
        {
          "output_type": "stream",
          "name": "stdout",
          "text": [
            "請輸入月份5\n",
            "5 月是春天！\n"
          ]
        }
      ]
    },
    {
      "cell_type": "code",
      "source": [
        "revenue = int(input(\"請輸入收入\"))\n",
        "if revenue >= 2000000:\n",
        "  print(\"付稅金額：\" , revenue * 0.3)\n",
        "elif 1000000 <= revenue <= 1999999:\n",
        "  print(\"付稅金額：\" , revenue * 0.21)\n",
        "elif 600000 <= revenue <= 999999:\n",
        "  print(\"付稅金額：\" , revenue * 0.13)\n",
        "elif 300000 <= revenue <= 599999:\n",
        "  print(\"付稅金額：\" , revenue * 0.06)\n",
        "else:\n",
        "  print(\"付稅金額：\" , 0)"
      ],
      "metadata": {
        "id": "kdH7uMDWZd8v",
        "colab": {
          "base_uri": "https://localhost:8080/"
        },
        "outputId": "4576b7c0-45f3-4418-a219-30ec0aad0a5d"
      },
      "execution_count": 27,
      "outputs": [
        {
          "output_type": "stream",
          "name": "stdout",
          "text": [
            "請輸入收入2000000\n",
            "付稅金額： 600000.0\n"
          ]
        }
      ]
    }
  ]
}