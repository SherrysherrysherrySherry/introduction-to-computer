{
  "nbformat": 4,
  "nbformat_minor": 0,
  "metadata": {
    "colab": {
      "provenance": [],
      "authorship_tag": "ABX9TyNFlxbmRChXOcS85ZvsK5lY",
      "include_colab_link": true
    },
    "kernelspec": {
      "name": "python3",
      "display_name": "Python 3"
    },
    "language_info": {
      "name": "python"
    }
  },
  "cells": [
    {
      "cell_type": "markdown",
      "metadata": {
        "id": "view-in-github",
        "colab_type": "text"
      },
      "source": [
        "<a href=\"https://colab.research.google.com/github/SherrysherrysherrySherry/introduction-to-computer/blob/main/0508.ipynb\" target=\"_parent\"><img src=\"https://colab.research.google.com/assets/colab-badge.svg\" alt=\"Open In Colab\"/></a>"
      ]
    },
    {
      "cell_type": "code",
      "execution_count": 7,
      "metadata": {
        "id": "zdHBkorUNpfH",
        "colab": {
          "base_uri": "https://localhost:8080/"
        },
        "outputId": "ff9ccb01-b8ff-4d88-b443-e48e8e2c8051"
      },
      "outputs": [
        {
          "output_type": "stream",
          "name": "stdout",
          "text": [
            "Hi\n"
          ]
        }
      ],
      "source": [
        "print(\"Hi\")"
      ]
    },
    {
      "cell_type": "code",
      "source": [
        "score = int(input(\"請輸入分數：\"))\n",
        "if score >= 60:\n",
        "  print(\"及格\")\n",
        "else:\n",
        "  print(\"不及格\")"
      ],
      "metadata": {
        "id": "TJeufu5SPQRm",
        "colab": {
          "base_uri": "https://localhost:8080/"
        },
        "outputId": "41a79cc1-c176-4e1b-9aa4-04594d5e3366"
      },
      "execution_count": 8,
      "outputs": [
        {
          "output_type": "stream",
          "name": "stdout",
          "text": [
            "請輸入分數：70\n",
            "及格\n"
          ]
        }
      ]
    },
    {
      "cell_type": "code",
      "source": [
        "password = int(input(\"請輸入密碼：\"))\n",
        "if password == 1234:\n",
        "  print(\"歡迎光臨！\")\n",
        "else:\n",
        "  print(\"密碼錯誤\")"
      ],
      "metadata": {
        "id": "ypgGvDobPQe4",
        "colab": {
          "base_uri": "https://localhost:8080/"
        },
        "outputId": "488daa94-5f1f-4205-f046-e8d5ae8e53bb"
      },
      "execution_count": 11,
      "outputs": [
        {
          "output_type": "stream",
          "name": "stdout",
          "text": [
            "請輸入密碼：1234\n",
            "歡迎光臨！\n"
          ]
        }
      ]
    },
    {
      "cell_type": "code",
      "source": [
        "rain = input(\"今天會下雨嗎？\")\n",
        "if rain == \"Y\" or rain == \"y\":\n",
        "  print(\"出門記得帶傘！\")"
      ],
      "metadata": {
        "id": "kp2m7G_cPQoC",
        "colab": {
          "base_uri": "https://localhost:8080/"
        },
        "outputId": "660451f9-38c4-400b-bf89-0779b3774552"
      },
      "execution_count": 16,
      "outputs": [
        {
          "output_type": "stream",
          "name": "stdout",
          "text": [
            "今天會下雨嗎？Y\n",
            "出門記得帶傘！\n"
          ]
        }
      ]
    },
    {
      "cell_type": "code",
      "source": [
        "number = int(input(\"請輸入正整數：\"))\n",
        "if number % 2 == 0:\n",
        "  print(number , \"為偶數\")\n",
        "else:\n",
        "  print(number , \"為奇數\")"
      ],
      "metadata": {
        "id": "h_3hdtCXPQv9",
        "colab": {
          "base_uri": "https://localhost:8080/"
        },
        "outputId": "b73ca4a5-428f-4d4b-803f-dc7281f229e9"
      },
      "execution_count": 14,
      "outputs": [
        {
          "output_type": "stream",
          "name": "stdout",
          "text": [
            "請輸入正整數：51\n",
            "51 為奇數\n"
          ]
        }
      ]
    }
  ]
}