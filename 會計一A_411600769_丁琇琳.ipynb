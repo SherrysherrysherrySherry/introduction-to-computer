{
  "nbformat": 4,
  "nbformat_minor": 0,
  "metadata": {
    "colab": {
      "provenance": [],
      "authorship_tag": "ABX9TyMukNtKfF9H8n/8xbuPVG0J",
      "include_colab_link": true
    },
    "kernelspec": {
      "name": "python3",
      "display_name": "Python 3"
    },
    "language_info": {
      "name": "python"
    }
  },
  "cells": [
    {
      "cell_type": "markdown",
      "metadata": {
        "id": "view-in-github",
        "colab_type": "text"
      },
      "source": [
        "<a href=\"https://colab.research.google.com/github/SherrysherrysherrySherry/introduction-to-computer/blob/main/%E6%9C%83%E8%A8%88%E4%B8%80A_411600769_%E4%B8%81%E7%90%87%E7%90%B3.ipynb\" target=\"_parent\"><img src=\"https://colab.research.google.com/assets/colab-badge.svg\" alt=\"Open In Colab\"/></a>"
      ]
    },
    {
      "cell_type": "markdown",
      "source": [
        "第一題"
      ],
      "metadata": {
        "id": "kZYPuOWbXTbu"
      }
    },
    {
      "cell_type": "code",
      "source": [
        "print('Hello World')"
      ],
      "metadata": {
        "colab": {
          "base_uri": "https://localhost:8080/"
        },
        "id": "yeEdcpN5Wmeo",
        "outputId": "ebc0f070-7bd4-472d-9b5d-e1f0bcda42b2"
      },
      "execution_count": 4,
      "outputs": [
        {
          "output_type": "stream",
          "name": "stdout",
          "text": [
            "Hello World\n"
          ]
        }
      ]
    },
    {
      "cell_type": "markdown",
      "source": [
        "第二題"
      ],
      "metadata": {
        "id": "tujZnIg3XZtk"
      }
    },
    {
      "cell_type": "code",
      "source": [
        "F=float(input('請輸入華氏溫度:'))\n",
        "f=(F-32)*5/9\n",
        "print(F'攝氏溫度為: %.1f' %f)"
      ],
      "metadata": {
        "colab": {
          "base_uri": "https://localhost:8080/"
        },
        "id": "UcUnapSuW1yh",
        "outputId": "64a8ba84-f4a7-411e-db99-0efa61ac5025"
      },
      "execution_count": 17,
      "outputs": [
        {
          "output_type": "stream",
          "name": "stdout",
          "text": [
            "請輸入華氏溫度:100\n",
            "攝氏溫度為: 37.8\n"
          ]
        }
      ]
    },
    {
      "cell_type": "markdown",
      "source": [
        "第三題"
      ],
      "metadata": {
        "id": "CTROBa3yXaiw"
      }
    },
    {
      "cell_type": "code",
      "source": [
        "a = 0\n",
        "整數 = int(input('請輸入正整數:'))\n",
        "for i in range(1,整數+1):\n",
        "  a += i\n",
        "print('1到 %d 的整數和為 %d '%(整數,a))"
      ],
      "metadata": {
        "colab": {
          "base_uri": "https://localhost:8080/"
        },
        "id": "aruXqW7LXSog",
        "outputId": "9c64c37b-03cf-41c7-8981-4994dd240fa6"
      },
      "execution_count": 15,
      "outputs": [
        {
          "output_type": "stream",
          "name": "stdout",
          "text": [
            "請輸入正整數:5\n",
            "1到 5 的整數和為 15 \n"
          ]
        }
      ]
    },
    {
      "cell_type": "markdown",
      "source": [
        "存款計算"
      ],
      "metadata": {
        "id": "poSGMe3bXvtI"
      }
    },
    {
      "cell_type": "code",
      "execution_count": 5,
      "metadata": {
        "colab": {
          "base_uri": "https://localhost:8080/"
        },
        "id": "ncYZ_ynyPzed",
        "outputId": "67107afc-596a-4e06-fad8-aef375426fd0"
      },
      "outputs": [
        {
          "output_type": "stream",
          "name": "stdout",
          "text": [
            "請輸入本金存款金額10000\n",
            "6年後存款為: 11261.62419264\n"
          ]
        }
      ],
      "source": [
        "本金 = int(input(\"請輸入本金存款金額\"))\n",
        "六年後存款 = round(本金 * (1.02 ** 6),8)\n",
        "print(\"6年後存款為:\" , 六年後存款)"
      ]
    }
  ]
}